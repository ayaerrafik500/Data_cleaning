{
 "cells": [
  {
   "cell_type": "markdown",
   "id": "3a985e3a",
   "metadata": {
    "papermill": {
     "duration": 0.00649,
     "end_time": "2023-06-26T23:36:41.381131",
     "exception": false,
     "start_time": "2023-06-26T23:36:41.374641",
     "status": "completed"
    },
    "tags": []
   },
   "source": [
    "**This notebook is an exercise in the [Data Cleaning](https://www.kaggle.com/learn/data-cleaning) course.  You can reference the tutorial at [this link](https://www.kaggle.com/alexisbcook/character-encodings).**\n",
    "\n",
    "---\n"
   ]
  },
  {
   "cell_type": "markdown",
   "id": "9a1998f1",
   "metadata": {
    "papermill": {
     "duration": 0.005972,
     "end_time": "2023-06-26T23:36:41.393865",
     "exception": false,
     "start_time": "2023-06-26T23:36:41.387893",
     "status": "completed"
    },
    "tags": []
   },
   "source": [
    "In this exercise, you'll apply what you learned in the **Character encodings** tutorial.\n",
    "\n",
    "# Setup\n",
    "\n",
    "The questions below will give you feedback on your work. Run the following cell to set up the feedback system."
   ]
  },
  {
   "cell_type": "code",
   "execution_count": 1,
   "id": "ed176322",
   "metadata": {
    "execution": {
     "iopub.execute_input": "2023-06-26T23:36:41.407937Z",
     "iopub.status.busy": "2023-06-26T23:36:41.407565Z",
     "iopub.status.idle": "2023-06-26T23:36:41.500888Z",
     "shell.execute_reply": "2023-06-26T23:36:41.499715Z"
    },
    "papermill": {
     "duration": 0.103518,
     "end_time": "2023-06-26T23:36:41.503628",
     "exception": false,
     "start_time": "2023-06-26T23:36:41.400110",
     "status": "completed"
    },
    "tags": []
   },
   "outputs": [
    {
     "name": "stdout",
     "output_type": "stream",
     "text": [
      "Setup Complete\n"
     ]
    }
   ],
   "source": [
    "from learntools.core import binder\n",
    "binder.bind(globals())\n",
    "from learntools.data_cleaning.ex4 import *\n",
    "print(\"Setup Complete\")"
   ]
  },
  {
   "cell_type": "markdown",
   "id": "473229f3",
   "metadata": {
    "papermill": {
     "duration": 0.006219,
     "end_time": "2023-06-26T23:36:41.516122",
     "exception": false,
     "start_time": "2023-06-26T23:36:41.509903",
     "status": "completed"
    },
    "tags": []
   },
   "source": [
    "# Get our environment set up\n",
    "\n",
    "The first thing we'll need to do is load in the libraries we'll be using."
   ]
  },
  {
   "cell_type": "code",
   "execution_count": 2,
   "id": "7762c865",
   "metadata": {
    "execution": {
     "iopub.execute_input": "2023-06-26T23:36:41.530011Z",
     "iopub.status.busy": "2023-06-26T23:36:41.529650Z",
     "iopub.status.idle": "2023-06-26T23:36:41.534762Z",
     "shell.execute_reply": "2023-06-26T23:36:41.533718Z"
    },
    "papermill": {
     "duration": 0.014776,
     "end_time": "2023-06-26T23:36:41.536933",
     "exception": false,
     "start_time": "2023-06-26T23:36:41.522157",
     "status": "completed"
    },
    "tags": []
   },
   "outputs": [],
   "source": [
    "# modules we'll use\n",
    "import pandas as pd\n",
    "import numpy as np\n",
    "\n",
    "# helpful character encoding module\n",
    "import charset_normalizer\n",
    "\n",
    "# set seed for reproducibility\n",
    "np.random.seed(0)"
   ]
  },
  {
   "cell_type": "markdown",
   "id": "d28ca6bd",
   "metadata": {
    "papermill": {
     "duration": 0.00745,
     "end_time": "2023-06-26T23:36:41.550414",
     "exception": false,
     "start_time": "2023-06-26T23:36:41.542964",
     "status": "completed"
    },
    "tags": []
   },
   "source": [
    "# 1) What are encodings?\n",
    "\n",
    "You're working with a dataset composed of bytes.  Run the code cell below to print a sample entry."
   ]
  },
  {
   "cell_type": "code",
   "execution_count": 3,
   "id": "0e564796",
   "metadata": {
    "execution": {
     "iopub.execute_input": "2023-06-26T23:36:41.564210Z",
     "iopub.status.busy": "2023-06-26T23:36:41.563827Z",
     "iopub.status.idle": "2023-06-26T23:36:41.570338Z",
     "shell.execute_reply": "2023-06-26T23:36:41.569168Z"
    },
    "papermill": {
     "duration": 0.016306,
     "end_time": "2023-06-26T23:36:41.572830",
     "exception": false,
     "start_time": "2023-06-26T23:36:41.556524",
     "status": "completed"
    },
    "tags": []
   },
   "outputs": [
    {
     "name": "stdout",
     "output_type": "stream",
     "text": [
      "b'\\xa7A\\xa6n'\n",
      "data type: <class 'bytes'>\n"
     ]
    }
   ],
   "source": [
    "sample_entry = b'\\xa7A\\xa6n'\n",
    "print(sample_entry)\n",
    "print('data type:', type(sample_entry))"
   ]
  },
  {
   "cell_type": "markdown",
   "id": "c228f42a",
   "metadata": {
    "papermill": {
     "duration": 0.006135,
     "end_time": "2023-06-26T23:36:41.585211",
     "exception": false,
     "start_time": "2023-06-26T23:36:41.579076",
     "status": "completed"
    },
    "tags": []
   },
   "source": [
    "You notice that it doesn't use the standard UTF-8 encoding. \n",
    "\n",
    "Use the next code cell to create a variable `new_entry` that changes the encoding from `\"big5-tw\"` to `\"utf-8\"`.  `new_entry` should have the bytes datatype."
   ]
  },
  {
   "cell_type": "code",
   "execution_count": 4,
   "id": "77e32f29",
   "metadata": {
    "execution": {
     "iopub.execute_input": "2023-06-26T23:36:41.599385Z",
     "iopub.status.busy": "2023-06-26T23:36:41.598989Z",
     "iopub.status.idle": "2023-06-26T23:36:41.611305Z",
     "shell.execute_reply": "2023-06-26T23:36:41.610069Z"
    },
    "papermill": {
     "duration": 0.0227,
     "end_time": "2023-06-26T23:36:41.614210",
     "exception": false,
     "start_time": "2023-06-26T23:36:41.591510",
     "status": "completed"
    },
    "tags": []
   },
   "outputs": [
    {
     "name": "stdout",
     "output_type": "stream",
     "text": [
      "你好\n",
      "b'\\xe4\\xbd\\xa0\\xe5\\xa5\\xbd'\n",
      "<class 'bytes'>\n"
     ]
    },
    {
     "data": {
      "application/javascript": [
       "parent.postMessage({\"jupyterEvent\": \"custom.exercise_interaction\", \"data\": {\"outcomeType\": 1, \"valueTowardsCompletion\": 0.3333333333333333, \"interactionType\": 1, \"questionType\": 1, \"questionId\": \"1_EncodingsIntro\", \"learnToolsVersion\": \"0.3.4\", \"failureMessage\": \"\", \"exceptionClass\": \"\", \"trace\": \"\"}}, \"*\")"
      ],
      "text/plain": [
       "<IPython.core.display.Javascript object>"
      ]
     },
     "metadata": {},
     "output_type": "display_data"
    },
    {
     "data": {
      "text/markdown": [
       "<span style=\"color:#33cc33\">Correct</span>"
      ],
      "text/plain": [
       "Correct"
      ]
     },
     "metadata": {},
     "output_type": "display_data"
    }
   ],
   "source": [
    "entry = sample_entry.decode(\"big5-tw\")\n",
    "new_entry=entry.encode()\n",
    "print(entry)\n",
    "print(new_entry)\n",
    "print(type(new_entry))\n",
    "# Check your answer\n",
    "q1.check()"
   ]
  },
  {
   "cell_type": "code",
   "execution_count": 5,
   "id": "c626d9ab",
   "metadata": {
    "execution": {
     "iopub.execute_input": "2023-06-26T23:36:41.629867Z",
     "iopub.status.busy": "2023-06-26T23:36:41.629210Z",
     "iopub.status.idle": "2023-06-26T23:36:41.634172Z",
     "shell.execute_reply": "2023-06-26T23:36:41.633053Z"
    },
    "papermill": {
     "duration": 0.015499,
     "end_time": "2023-06-26T23:36:41.636514",
     "exception": false,
     "start_time": "2023-06-26T23:36:41.621015",
     "status": "completed"
    },
    "tags": []
   },
   "outputs": [],
   "source": [
    "# Lines below will give you a hint or solution code\n",
    "#q1.hint()\n",
    "#q1.solution()"
   ]
  },
  {
   "cell_type": "markdown",
   "id": "b0769269",
   "metadata": {
    "papermill": {
     "duration": 0.006357,
     "end_time": "2023-06-26T23:36:41.649520",
     "exception": false,
     "start_time": "2023-06-26T23:36:41.643163",
     "status": "completed"
    },
    "tags": []
   },
   "source": [
    "# 2) Reading in files with encoding problems\n",
    "\n",
    "Use the code cell below to read in this file at path `\"../input/fatal-police-shootings-in-the-us/PoliceKillingsUS.csv\"`.  \n",
    "\n",
    "Figure out what the correct encoding should be and read in the file to a DataFrame `police_killings`."
   ]
  },
  {
   "cell_type": "code",
   "execution_count": 6,
   "id": "10d46fee",
   "metadata": {
    "execution": {
     "iopub.execute_input": "2023-06-26T23:36:41.664623Z",
     "iopub.status.busy": "2023-06-26T23:36:41.664226Z",
     "iopub.status.idle": "2023-06-26T23:36:42.170301Z",
     "shell.execute_reply": "2023-06-26T23:36:42.168703Z"
    },
    "papermill": {
     "duration": 0.516641,
     "end_time": "2023-06-26T23:36:42.172679",
     "exception": false,
     "start_time": "2023-06-26T23:36:41.656038",
     "status": "completed"
    },
    "tags": []
   },
   "outputs": [
    {
     "name": "stdout",
     "output_type": "stream",
     "text": [
      "{'encoding': 'windows-1250', 'language': 'English', 'confidence': 1.0}\n"
     ]
    }
   ],
   "source": [
    "\n",
    "with open(\"../input/fatal-police-shootings-in-the-us/PoliceKillingsUS.csv\", 'rb') as rawdata:\n",
    "    result = charset_normalizer.detect(rawdata.read(100000))\n",
    "\n",
    "# check what the character encoding might be\n",
    "print(result)\n"
   ]
  },
  {
   "cell_type": "markdown",
   "id": "d39a9b22",
   "metadata": {
    "papermill": {
     "duration": 0.006438,
     "end_time": "2023-06-26T23:36:42.186021",
     "exception": false,
     "start_time": "2023-06-26T23:36:42.179583",
     "status": "completed"
    },
    "tags": []
   },
   "source": [
    "Feel free to use any additional code cells for supplemental work.  To get credit for finishing this question, you'll need to run `q2.check()` and get a result of **Correct**."
   ]
  },
  {
   "cell_type": "code",
   "execution_count": 7,
   "id": "1ea93692",
   "metadata": {
    "execution": {
     "iopub.execute_input": "2023-06-26T23:36:42.201221Z",
     "iopub.status.busy": "2023-06-26T23:36:42.200828Z",
     "iopub.status.idle": "2023-06-26T23:36:42.242970Z",
     "shell.execute_reply": "2023-06-26T23:36:42.241678Z"
    },
    "papermill": {
     "duration": 0.052703,
     "end_time": "2023-06-26T23:36:42.245392",
     "exception": false,
     "start_time": "2023-06-26T23:36:42.192689",
     "status": "completed"
    },
    "tags": []
   },
   "outputs": [
    {
     "name": "stdout",
     "output_type": "stream",
     "text": [
      "   id                name      date   manner_of_death       armed   age  \\\n",
      "0   3          Tim Elliot  02/01/15              shot         gun  53.0   \n",
      "1   4    Lewis Lee Lembke  02/01/15              shot         gun  47.0   \n",
      "2   5  John Paul Quintero  03/01/15  shot and Tasered     unarmed  23.0   \n",
      "3   8     Matthew Hoffman  04/01/15              shot  toy weapon  32.0   \n",
      "4   9   Michael Rodriguez  04/01/15              shot    nail gun  39.0   \n",
      "\n",
      "  gender race           city state  signs_of_mental_illness threat_level  \\\n",
      "0      M    A        Shelton    WA                     True       attack   \n",
      "1      M    W          Aloha    OR                    False       attack   \n",
      "2      M    H        Wichita    KS                    False        other   \n",
      "3      M    W  San Francisco    CA                     True       attack   \n",
      "4      M    H          Evans    CO                    False       attack   \n",
      "\n",
      "          flee  body_camera  \n",
      "0  Not fleeing        False  \n",
      "1  Not fleeing        False  \n",
      "2  Not fleeing        False  \n",
      "3  Not fleeing        False  \n",
      "4  Not fleeing        False  \n"
     ]
    },
    {
     "data": {
      "application/javascript": [
       "parent.postMessage({\"jupyterEvent\": \"custom.exercise_interaction\", \"data\": {\"outcomeType\": 1, \"valueTowardsCompletion\": 0.3333333333333333, \"interactionType\": 1, \"questionType\": 1, \"questionId\": \"2_ReadIn\", \"learnToolsVersion\": \"0.3.4\", \"failureMessage\": \"\", \"exceptionClass\": \"\", \"trace\": \"\"}}, \"*\")"
      ],
      "text/plain": [
       "<IPython.core.display.Javascript object>"
      ]
     },
     "metadata": {},
     "output_type": "display_data"
    },
    {
     "data": {
      "text/markdown": [
       "<span style=\"color:#33cc33\">Correct</span>"
      ],
      "text/plain": [
       "Correct"
      ]
     },
     "metadata": {},
     "output_type": "display_data"
    }
   ],
   "source": [
    "# (Optional) Use this code cell for any additional work.\n",
    "#cretaing police_killings\n",
    "police_killings=pd.read_csv(\"../input/fatal-police-shootings-in-the-us/PoliceKillingsUS.csv\",encoding='windows-1250')\n",
    "print(police_killings.head())\n",
    "# Check your answer\n",
    "\n",
    "q2.check()\n"
   ]
  },
  {
   "cell_type": "code",
   "execution_count": 8,
   "id": "969cf6b6",
   "metadata": {
    "execution": {
     "iopub.execute_input": "2023-06-26T23:36:42.261837Z",
     "iopub.status.busy": "2023-06-26T23:36:42.261460Z",
     "iopub.status.idle": "2023-06-26T23:36:42.266286Z",
     "shell.execute_reply": "2023-06-26T23:36:42.264907Z"
    },
    "papermill": {
     "duration": 0.015982,
     "end_time": "2023-06-26T23:36:42.269001",
     "exception": false,
     "start_time": "2023-06-26T23:36:42.253019",
     "status": "completed"
    },
    "tags": []
   },
   "outputs": [],
   "source": [
    "# Lines below will give you a hint or solution code\n",
    "#q2.hint()\n",
    "#q2.solution()"
   ]
  },
  {
   "cell_type": "markdown",
   "id": "bcc43a95",
   "metadata": {
    "papermill": {
     "duration": 0.006873,
     "end_time": "2023-06-26T23:36:42.283183",
     "exception": false,
     "start_time": "2023-06-26T23:36:42.276310",
     "status": "completed"
    },
    "tags": []
   },
   "source": [
    "# 3) Saving your files with UTF-8 encoding\n",
    "\n",
    "Save a version of the police killings dataset to CSV with UTF-8 encoding.  Your answer will be marked correct after saving this file.  \n",
    "\n",
    "Note: When using the `to_csv()` method, supply only the name of the file (e.g., `\"my_file.csv\"`).  This saves the file at the filepath `\"/kaggle/working/my_file.csv\"`."
   ]
  },
  {
   "cell_type": "code",
   "execution_count": 9,
   "id": "abc49dfc",
   "metadata": {
    "execution": {
     "iopub.execute_input": "2023-06-26T23:36:42.298935Z",
     "iopub.status.busy": "2023-06-26T23:36:42.298565Z",
     "iopub.status.idle": "2023-06-26T23:36:42.354112Z",
     "shell.execute_reply": "2023-06-26T23:36:42.353075Z"
    },
    "papermill": {
     "duration": 0.066306,
     "end_time": "2023-06-26T23:36:42.356524",
     "exception": false,
     "start_time": "2023-06-26T23:36:42.290218",
     "status": "completed"
    },
    "tags": []
   },
   "outputs": [
    {
     "data": {
      "application/javascript": [
       "parent.postMessage({\"jupyterEvent\": \"custom.exercise_interaction\", \"data\": {\"outcomeType\": 1, \"valueTowardsCompletion\": 0.3333333333333333, \"interactionType\": 1, \"questionType\": 2, \"questionId\": \"3_SaveCSV\", \"learnToolsVersion\": \"0.3.4\", \"failureMessage\": \"\", \"exceptionClass\": \"\", \"trace\": \"\"}}, \"*\")"
      ],
      "text/plain": [
       "<IPython.core.display.Javascript object>"
      ]
     },
     "metadata": {},
     "output_type": "display_data"
    },
    {
     "data": {
      "text/markdown": [
       "<span style=\"color:#33cc33\">Correct</span>"
      ],
      "text/plain": [
       "Correct"
      ]
     },
     "metadata": {},
     "output_type": "display_data"
    }
   ],
   "source": [
    "# TODO: Save the police killings dataset to CSV\n",
    "police_killings.to_csv(\"my_file.csv\")\n",
    "\n",
    "# Check your answer\n",
    "q3.check()"
   ]
  },
  {
   "cell_type": "code",
   "execution_count": 10,
   "id": "3ecaa334",
   "metadata": {
    "execution": {
     "iopub.execute_input": "2023-06-26T23:36:42.374078Z",
     "iopub.status.busy": "2023-06-26T23:36:42.373658Z",
     "iopub.status.idle": "2023-06-26T23:36:42.378057Z",
     "shell.execute_reply": "2023-06-26T23:36:42.376929Z"
    },
    "papermill": {
     "duration": 0.015815,
     "end_time": "2023-06-26T23:36:42.380333",
     "exception": false,
     "start_time": "2023-06-26T23:36:42.364518",
     "status": "completed"
    },
    "tags": []
   },
   "outputs": [],
   "source": [
    "# Lines below will give you a hint or solution code\n",
    "#q3.hint()\n",
    "#q3.solution()"
   ]
  },
  {
   "cell_type": "markdown",
   "id": "756e2acf",
   "metadata": {
    "papermill": {
     "duration": 0.007168,
     "end_time": "2023-06-26T23:36:42.395045",
     "exception": false,
     "start_time": "2023-06-26T23:36:42.387877",
     "status": "completed"
    },
    "tags": []
   },
   "source": [
    "# (Optional) More practice\n",
    "\n",
    "Check out [this dataset of files in different character encodings](https://www.kaggle.com/rtatman/character-encoding-examples). Can you read in all the files with their original encodings and them save them out as UTF-8 files?\n",
    "\n",
    "If you have a file that's in UTF-8 but has just a couple of weird-looking characters in it, you can try out the [ftfy module](https://ftfy.readthedocs.io/en/latest/#) and see if it helps. \n",
    "\n",
    "# Keep going\n",
    "\n",
    "In the final lesson, learn how to [**clean up inconsistent text entries**](https://www.kaggle.com/alexisbcook/inconsistent-data-entry) in your dataset."
   ]
  },
  {
   "cell_type": "markdown",
   "id": "29359639",
   "metadata": {
    "papermill": {
     "duration": 0.007103,
     "end_time": "2023-06-26T23:36:42.409651",
     "exception": false,
     "start_time": "2023-06-26T23:36:42.402548",
     "status": "completed"
    },
    "tags": []
   },
   "source": [
    "---\n",
    "\n",
    "\n",
    "\n",
    "\n",
    "*Have questions or comments? Visit the [course discussion forum](https://www.kaggle.com/learn/data-cleaning/discussion) to chat with other learners.*"
   ]
  }
 ],
 "metadata": {
  "kernelspec": {
   "display_name": "Python 3",
   "language": "python",
   "name": "python3"
  },
  "language_info": {
   "codemirror_mode": {
    "name": "ipython",
    "version": 3
   },
   "file_extension": ".py",
   "mimetype": "text/x-python",
   "name": "python",
   "nbconvert_exporter": "python",
   "pygments_lexer": "ipython3",
   "version": "3.10.10"
  },
  "papermill": {
   "default_parameters": {},
   "duration": 13.993312,
   "end_time": "2023-06-26T23:36:43.238961",
   "environment_variables": {},
   "exception": null,
   "input_path": "__notebook__.ipynb",
   "output_path": "__notebook__.ipynb",
   "parameters": {},
   "start_time": "2023-06-26T23:36:29.245649",
   "version": "2.4.0"
  }
 },
 "nbformat": 4,
 "nbformat_minor": 5
}
