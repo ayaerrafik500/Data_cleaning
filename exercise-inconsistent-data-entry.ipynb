{
 "cells": [
  {
   "cell_type": "markdown",
   "id": "8e360de2",
   "metadata": {
    "papermill": {
     "duration": 0.004845,
     "end_time": "2023-06-26T23:36:57.184392",
     "exception": false,
     "start_time": "2023-06-26T23:36:57.179547",
     "status": "completed"
    },
    "tags": []
   },
   "source": [
    "**This notebook is an exercise in the [Data Cleaning](https://www.kaggle.com/learn/data-cleaning) course.  You can reference the tutorial at [this link](https://www.kaggle.com/alexisbcook/inconsistent-data-entry).**\n",
    "\n",
    "---\n"
   ]
  },
  {
   "cell_type": "markdown",
   "id": "9bb8461c",
   "metadata": {
    "papermill": {
     "duration": 0.003775,
     "end_time": "2023-06-26T23:36:57.192273",
     "exception": false,
     "start_time": "2023-06-26T23:36:57.188498",
     "status": "completed"
    },
    "tags": []
   },
   "source": [
    "In this exercise, you'll apply what you learned in the **Inconsistent data entry** tutorial.\n",
    "\n",
    "# Setup\n",
    "\n",
    "The questions below will give you feedback on your work. Run the following cell to set up the feedback system."
   ]
  },
  {
   "cell_type": "code",
   "execution_count": 1,
   "id": "17ce08dd",
   "metadata": {
    "execution": {
     "iopub.execute_input": "2023-06-26T23:36:57.203004Z",
     "iopub.status.busy": "2023-06-26T23:36:57.201709Z",
     "iopub.status.idle": "2023-06-26T23:36:57.424494Z",
     "shell.execute_reply": "2023-06-26T23:36:57.423301Z"
    },
    "papermill": {
     "duration": 0.230399,
     "end_time": "2023-06-26T23:36:57.426770",
     "exception": false,
     "start_time": "2023-06-26T23:36:57.196371",
     "status": "completed"
    },
    "tags": []
   },
   "outputs": [
    {
     "name": "stdout",
     "output_type": "stream",
     "text": [
      "Setup Complete\n"
     ]
    }
   ],
   "source": [
    "from learntools.core import binder\n",
    "binder.bind(globals())\n",
    "from learntools.data_cleaning.ex5 import *\n",
    "print(\"Setup Complete\")"
   ]
  },
  {
   "cell_type": "markdown",
   "id": "71f745cb",
   "metadata": {
    "papermill": {
     "duration": 0.004178,
     "end_time": "2023-06-26T23:36:57.435452",
     "exception": false,
     "start_time": "2023-06-26T23:36:57.431274",
     "status": "completed"
    },
    "tags": []
   },
   "source": [
    "# Get our environment set up\n",
    "\n",
    "The first thing we'll need to do is load in the libraries and dataset we'll be using.  We use the same dataset from the tutorial."
   ]
  },
  {
   "cell_type": "code",
   "execution_count": 2,
   "id": "655f476c",
   "metadata": {
    "execution": {
     "iopub.execute_input": "2023-06-26T23:36:57.445964Z",
     "iopub.status.busy": "2023-06-26T23:36:57.445541Z",
     "iopub.status.idle": "2023-06-26T23:36:57.465024Z",
     "shell.execute_reply": "2023-06-26T23:36:57.463300Z"
    },
    "papermill": {
     "duration": 0.028253,
     "end_time": "2023-06-26T23:36:57.467823",
     "exception": false,
     "start_time": "2023-06-26T23:36:57.439570",
     "status": "completed"
    },
    "tags": []
   },
   "outputs": [],
   "source": [
    "# modules we'll use\n",
    "import pandas as pd\n",
    "import numpy as np\n",
    "\n",
    "# helpful modules\n",
    "import fuzzywuzzy\n",
    "from fuzzywuzzy import process\n",
    "import charset_normalizer\n",
    "\n",
    "# read in all our data\n",
    "professors = pd.read_csv(\"../input/pakistan-intellectual-capital/pakistan_intellectual_capital.csv\")\n",
    "\n",
    "# set seed for reproducibility\n",
    "np.random.seed(0)"
   ]
  },
  {
   "cell_type": "markdown",
   "id": "60e6c6b2",
   "metadata": {
    "papermill": {
     "duration": 0.006849,
     "end_time": "2023-06-26T23:36:57.479307",
     "exception": false,
     "start_time": "2023-06-26T23:36:57.472458",
     "status": "completed"
    },
    "tags": []
   },
   "source": [
    "Next, we'll redo all of the work that we did in the tutorial."
   ]
  },
  {
   "cell_type": "code",
   "execution_count": 3,
   "id": "6d7f3587",
   "metadata": {
    "execution": {
     "iopub.execute_input": "2023-06-26T23:36:57.490909Z",
     "iopub.status.busy": "2023-06-26T23:36:57.490571Z",
     "iopub.status.idle": "2023-06-26T23:36:57.504513Z",
     "shell.execute_reply": "2023-06-26T23:36:57.503593Z"
    },
    "papermill": {
     "duration": 0.021874,
     "end_time": "2023-06-26T23:36:57.506520",
     "exception": false,
     "start_time": "2023-06-26T23:36:57.484646",
     "status": "completed"
    },
    "tags": []
   },
   "outputs": [
    {
     "name": "stdout",
     "output_type": "stream",
     "text": [
      "All done!\n"
     ]
    }
   ],
   "source": [
    "# convert to lower case\n",
    "professors['Country'] = professors['Country'].str.lower()\n",
    "# remove trailing white spaces\n",
    "professors['Country'] = professors['Country'].str.strip()\n",
    "\n",
    "# get the top 10 closest matches to \"south korea\"\n",
    "countries = professors['Country'].unique()\n",
    "matches = fuzzywuzzy.process.extract(\"south korea\", countries, limit=10, scorer=fuzzywuzzy.fuzz.token_sort_ratio)\n",
    "\n",
    "def replace_matches_in_column(df, column, string_to_match, min_ratio = 47):\n",
    "    # get a list of unique strings\n",
    "    strings = df[column].unique()\n",
    "    \n",
    "    # get the top 10 closest matches to our input string\n",
    "    matches = fuzzywuzzy.process.extract(string_to_match, strings, \n",
    "                                         limit=10, scorer=fuzzywuzzy.fuzz.token_sort_ratio)\n",
    "\n",
    "    # only get matches with a ratio > 90\n",
    "    close_matches = [matches[0] for matches in matches if matches[1] >= min_ratio]\n",
    "\n",
    "    # get the rows of all the close matches in our dataframe\n",
    "    rows_with_matches = df[column].isin(close_matches)\n",
    "\n",
    "    # replace all rows with close matches with the input matches \n",
    "    df.loc[rows_with_matches, column] = string_to_match\n",
    "    \n",
    "    # let us know the function's done\n",
    "    print(\"All done!\")\n",
    "    \n",
    "replace_matches_in_column(df=professors, column='Country', string_to_match=\"south korea\")\n",
    "countries = professors['Country'].unique()"
   ]
  },
  {
   "cell_type": "markdown",
   "id": "f51b7971",
   "metadata": {
    "papermill": {
     "duration": 0.004306,
     "end_time": "2023-06-26T23:36:57.515306",
     "exception": false,
     "start_time": "2023-06-26T23:36:57.511000",
     "status": "completed"
    },
    "tags": []
   },
   "source": [
    "# 1) Examine another column\n",
    "\n",
    "Write code below to take a look at all the unique values in the \"Graduated from\" column."
   ]
  },
  {
   "cell_type": "code",
   "execution_count": 4,
   "id": "2a271ff9",
   "metadata": {
    "execution": {
     "iopub.execute_input": "2023-06-26T23:36:57.526353Z",
     "iopub.status.busy": "2023-06-26T23:36:57.525444Z",
     "iopub.status.idle": "2023-06-26T23:36:57.533303Z",
     "shell.execute_reply": "2023-06-26T23:36:57.531143Z"
    },
    "papermill": {
     "duration": 0.015986,
     "end_time": "2023-06-26T23:36:57.535673",
     "exception": false,
     "start_time": "2023-06-26T23:36:57.519687",
     "status": "completed"
    },
    "tags": []
   },
   "outputs": [
    {
     "name": "stdout",
     "output_type": "stream",
     "text": [
      "['Asian Institute of Technology'\n",
      " 'Balochistan University of Information Technology, Engineering and Management Sciences'\n",
      " 'University of Balochistan' \"Sardar Bahadur Khan Women's University\"\n",
      " 'SRH Hochschule Heidelberg'\n",
      " 'Institute of Business Administration,Karachi' 'DUET,Karachi'\n",
      " 'University of Turbat' 'University of Vienna' 'Monash University'\n",
      " 'University of Stirling' 'Chinese Academy of Sciences'\n",
      " 'University of Innsbruck' 'Vienna University of Technology'\n",
      " 'University of Paris-Est' 'The University of Cambridge'\n",
      " 'Harbin Institute of Technology' 'University of Nice, Sophia Antipolis'\n",
      " 'The University of York' 'Galilée - Université Paris 13'\n",
      " 'University of Bedfordshire' 'North Dakota State University'\n",
      " 'Kyungpook National University' 'The University of Manchester'\n",
      " 'National University of Sciences and Technology'\n",
      " 'FAST– National University of Computer and Emerging Sciences'\n",
      " 'Capital University of Science & Technology' 'Gomal University'\n",
      " 'University of Malaya' 'KTH Royal Institute of Technology'\n",
      " 'University of Technology' 'COMSATS Institute of Information Technology'\n",
      " 'Government College University' 'Mohammad Ali Jinnah University'\n",
      " 'Shaheed Zulfikar Ali Bhutto Institute of Science and Technology'\n",
      " 'Blekinge Institute of Technology' 'University of Grenoble'\n",
      " 'Politecnico di Torino' '\\xa0University of Missouri, KC'\n",
      " 'University of Bonn' 'University of Paris' 'The University of Leeds'\n",
      " '\\xa0University of Windsor'\n",
      " '\\xa0National University of Sciences and Technology-NIIT'\n",
      " 'University of Trento' 'Stockholm University'\n",
      " 'University of New South Wales, Sydney' 'Kingston University London'\n",
      " 'Griffith University' 'University of Salford' 'Loughborough University'\n",
      " 'International Islamic University,Islamabad'\n",
      " 'University of Central Missouri' 'Riphah International University'\n",
      " 'University of BedfordShire' 'University of Illinois'\n",
      " 'University Of Oslo' 'Nancy 2 University' 'University of Limerick'\n",
      " 'Ghulam Ishaq Khan Institute of Science and Technology'\n",
      " 'University Of Waterloo' 'University of Stuttgart'\n",
      " 'Liverpool John Moores University' 'University Of Caen'\n",
      " 'Paris Tech University of Eurecom' 'University Of Salford'\n",
      " 'Lahore University of Management Sciences'\n",
      " 'Dresden University Of Technology, Dresden\\xa0'\n",
      " 'COMSATS Institute of Information Technology,Vehari'\n",
      " 'COMSATS Institute of Information Technology,Wah Cantt' 'TU Berlin'\n",
      " 'FAST– National University of Computer and Emerging Sciences,Islamabad'\n",
      " 'Tsinghua University' 'The University of Auckland' 'IQRA University'\n",
      " 'Universiti Teknologi PETRONAS'\n",
      " 'COMSATS Institute of Information Technology,Islamabad'\n",
      " 'Razak School of Engineering and Advanced Technology, Universiti Teknologi Malaysia (UTM)'\n",
      " 'National University of Modern Languages'\n",
      " 'University of Engineering and Technology'\n",
      " 'University Institute of Information Technology'\n",
      " 'University of Arid Agriculture' 'Quaid-i-Azam University'\n",
      " 'Queen Mary University of London'\n",
      " 'Pakistan Institute of Engineering and Applied Sciences'\n",
      " 'Pohang University of Science and Technology' 'Uppsala University'\n",
      " 'Kyung Hee University' 'University of Liverpool'\n",
      " 'University of Sunderland' 'Mid Sweden University'\n",
      " 'Bahria University,Islamabad' 'Chosun University' 'University of Sussex'\n",
      " 'Paris Descartes University' 'University of Leicester'\n",
      " 'University of Porto' 'University of Manchester'\n",
      " 'Université Henri Poincaré, Nancy 1,' 'Bahria University'\n",
      " 'Centre for Advanced Studies in Engineering'\n",
      " 'Norwegian University of Science and Technology (NTNU),'\n",
      " 'The Islamia University of Bahawalpur ' 'Universiti Technologi'\n",
      " 'California State University' 'University of Genova'\n",
      " 'University of Engineering and Technology,Taxila'\n",
      " 'University of\\xa0Liverpool John Moores University' 'Guildford'\n",
      " 'University of Bradford' 'Graz University of Technology'\n",
      " 'Huazhong University of Science and Technology (HUST), Wuhan'\n",
      " 'University of Konstanz'\n",
      " 'National University of Modern Languages,Islamabad'\n",
      " 'FAST– National University of Computer and Emerging Sciences,Lahore'\n",
      " 'Gwangju Institute of Science and Technology' 'University of Birmingham'\n",
      " 'Manchester University' 'Beijing Institute of Technology'\n",
      " 'University of Paisley'\n",
      " 'Univ of Porto/Univ of Aveiro Portugal/Uni of Minho'\n",
      " 'University of Peshawar' 'Universität Salzburg'\n",
      " 'Colorado State University' 'University of Virginia'\n",
      " 'University of Orleans' 'Zhejiang University' 'University of Leeds'\n",
      " 'Foundation University' 'Barani Institute of Information Technology'\n",
      " 'Abasyn University' 'Pir Mehr Ali Shah Arid Agriculture University'\n",
      " 'Preston' 'University of Bergen' 'Universtiy of Lahore'\n",
      " 'HITEC University,Taxila' 'Allama Iqbal Open University'\n",
      " 'University of Wales,Aberystwyth' '\\xa0University of Bonn'\n",
      " '\\xa0Hongik University'\n",
      " 'Skolkovo Institute of Science and Technology,\\xa0'\n",
      " 'Agricultural University Peshawar' 'National Textile University'\n",
      " 'FAST– National University of Computer and Emerging Sciences,Chiniot-Faisalabad'\n",
      " 'FAST– National University of Computer and Emerging Sciences,Peshawar'\n",
      " '\\xa0Boston University' 'Brunel University'\n",
      " 'George Washington University' 'University of the Punjab'\n",
      " '\\xa0University of Bedfordshire' 'University Of Southern California'\n",
      " 'Beihang University' 'Institute of Business Administration'\n",
      " 'Abdus Salam School of Mathematical Sciences,GC University'\n",
      " 'Linköping University'\n",
      " 'National College of Business Administration and Economics'\n",
      " 'Åbo Akademi University,' 'University of Central Punjab'\n",
      " 'University of Ulm' 'University of Agriculture'\n",
      " 'University of Notre Dame Indiana\\xa0'\n",
      " 'Punjab University College of Information Technology'\n",
      " 'Ilmenau University of Technology' ' Iowa State University'\n",
      " ' University of Innsbruck' 'Vrije University, Amsterdam'\n",
      " ' Columbia University' 'University of Freiburg'\n",
      " ' Delft University of Technology'\n",
      " ' University of Texas at Arlington (UTA)' ' University of Turin'\n",
      " ' University of Central Florida' 'Saarland University'\n",
      " 'University of Central Florida' 'Oxford Brookes University'\n",
      " 'Information Technology University (ITU)' 'University of Canterbury'\n",
      " 'University of Patras' 'Middle East Technical University'\n",
      " 'University of Bristol' 'University of Southern California'\n",
      " 'Northeastern University,Boston' 'Purdue University'\n",
      " 'University of Plymouth' 'University of South Australia'\n",
      " 'Stanford University' 'Chalmers University of Technology'\n",
      " 'Massachusetts Institute of Technology' 'Sapienza University of Rome'\n",
      " 'Eindhoven University of Technology (TU/e)'\n",
      " 'United Nations University International Institute for Software Technology (UNU-IIST)'\n",
      " 'Georgetown University,DC' 'RWTH Aachen University' 'Columbia University'\n",
      " 'Rutgers State University of New Jersey, NJ' 'University of Florida'\n",
      " 'Technical University of Braunschweig'\n",
      " 'Carnegie Mellon University, Pittsburgh' 'The Ohio State University'\n",
      " 'National University of Singapore' 'University of British Columbia'\n",
      " 'University of Pittsburgh' 'The State University of New Jersey'\n",
      " 'The University of Texas at Austin'\n",
      " 'Imperial College, University of London' 'University of Colorado\\xa0'\n",
      " 'University of Bath' 'Tilburg University'\n",
      " 'Pompeu Fabra University Barcelona'\n",
      " 'University of Management and Technology'\n",
      " 'COMSATS Institute of Information Technology,Lahore'\n",
      " 'University of Agriculture, Faisalabad\\xa0'\n",
      " 'University of Engineering & Technology'\n",
      " 'University of Agriculture, Faisalabad'\n",
      " 'Fatima Jinnah Women University, Rawalpindi'\n",
      " 'Kohat University of Science & Technology, Kohat'\n",
      " 'Virtual University of Pakistan' 'Bahauddin Zakariya University'\n",
      " 'University of the Punjab,Gujranwala'\n",
      " 'Lahore College for Women University' 'Superior University, Lahore'\n",
      " 'Shaheed Zulfikar Ali Bhutto Institute of Science and Technology,Islamabad'\n",
      " 'University of South Florida' 'Politecnico di Milano'\n",
      " 'Abdul Wali Khan University, Mardan' 'University of Lahore'\n",
      " 'Minhaj University Lahore' 'Lahore Leads University'\n",
      " 'Middlesex University' 'Beijing Institute of Technology Beijing'\n",
      " 'Beaconhouse National University' 'Hamdard University' 'University Paris'\n",
      " 'Sindh University' 'NED University of Engineering And Technology'\n",
      " 'Staffordshire University' 'DePaul University, Chicago'\n",
      " 'University of Kent' 'Mehran University of Engineering & Technology'\n",
      " 'Quaid-e-Awam University of Engineering, Science & Technology'\n",
      " 'Shah Abdul Latif University, Khairpur' 'Sindh Agriculture University'\n",
      " 'Swansea' 'University of Shanghai for Science and Technology'\n",
      " 'Griffith University,Nathan Campus' 'University of Essex'\n",
      " 'Xiamen university' 'Wayne State University'\n",
      " 'The Queens University of Belfast' 'Sungkyunkwan University'\n",
      " 'Nanyang Tech University' \"Universite d'Evry Val d'Essonne\"\n",
      " 'Sir Syed University of Engineering and Technology'\n",
      " 'New York Institute of Technology' 'Fedral Urdu University'\n",
      " 'ISRA University' 'University of Karachi' 'South Asian University'\n",
      " 'Capital University of Science and Technology'\n",
      " 'University of Manchester Institute of Science and Technology'\n",
      " 'The University of Birmingham'\n",
      " 'Max Planck Institute for Computer Science' 'George Mason University'\n",
      " 'University of Southampton' 'Temple University' 'University of Bayreuth'\n",
      " 'Muroran Institute of Technology,Hokkaido' 'University of Bologna'\n",
      " 'International Islamic University'\n",
      " 'PAF-Karachi Institute of Economics and Technology'\n",
      " 'Institute of Business Administration,Sukkur' 'Myongji University'\n",
      " 'State University of New York System' 'SSindh Agriculture University'\n",
      " 'London University' 'Universiti Putra Malaysia Putra'\n",
      " 'University of Rome Tor Vergata' 'University of Mississippi\\xa0'\n",
      " 'University of Wales' 'University of Northampton'\n",
      " 'University of Abertay Dundee'\n",
      " 'Biztek Institute Of Business & Technology,Karachi'\n",
      " 'University of Surrey' 'Jinnah University for Women'\n",
      " '\\xa0Nanyang Technological University' 'Tokyo Institute of Technology'\n",
      " 'NCSU' 'Usman Institute of Technology' 'Hanyang University, Ansan' 'BUKC'\n",
      " 'Universtiy of Karachi' 'Pace University, New York' 'INSA de Lyon, Rhone'\n",
      " 'University of Dundee' 'Illinois Institute of Technology'\n",
      " 'City University of Science and Technology'\n",
      " 'Usman Institute of Technology (Hamdard University)'\n",
      " 'University of Malaga' 'Manchester Metropolitan University'\n",
      " 'Kyushu University,Fukuoka'\n",
      " 'King Abdullah University of Science and Technology'\n",
      " 'INRIA Saclay Ile-de-France' 'Université de la Rochelle'\n",
      " 'University of South Brittany' 'Aston University, Birmingham'\n",
      " 'University of Agriculture Faisalabad' 'Hamburg University of Technology'\n",
      " 'Government College University, Faisalabad' 'JKU' 'University of Oviedo'\n",
      " 'Beijing University of Posts & Telecommunications'\n",
      " 'Government College University,Faisalabad' 'Nottingham Trent University'\n",
      " 'University of Glasgow' 'Coventry University'\n",
      " 'Riphah International University,Faisalabad'\n",
      " 'Australian National University, Caneberra'\n",
      " 'Swedish University of Agricultural Sciences, Uppsala'\n",
      " 'University of Gujrat' 'IQRA University,Islamabad' 'Jonkoping University'\n",
      " 'Colorado Technical University' 'Cranfield University'\n",
      " 'Technical University of Graz' 'University of York'\n",
      " 'Brock University Canada' 'University of Westminster'\n",
      " 'University of Saarland' 'The University of Queensland'\n",
      " 'University of Rochester' 'Islamia College University '\n",
      " 'IBMS KP Agricultural University Peshawar' 'University of Kuala Lumpur'\n",
      " 'University of Regina' 'TU Wien' 'Swinburne University Of Technology'\n",
      " 'Institute Of Managment Sciences, Peshawar'\n",
      " 'Universiti Tun Hussein Onn Malaysia'\n",
      " 'Institute of Management Sciences, Peshawar' 'University of Huddersfield'\n",
      " 'University of Engineering and Technology,Peshawar'\n",
      " 'IQRA University,Karachi' 'John Moorse University, Liverpool'\n",
      " 'CECOS University of Information Technology and Emerging Sciences,Peshawar'\n",
      " 'University of the West Scotland' 'Concordia University,Montreal' 'JNU'\n",
      " 'Grenoble' 'Florida Atlantic University' 'Seoul National University']\n"
     ]
    }
   ],
   "source": [
    "# TODO: Your code here\n",
    "graduated_from=professors['Graduated from'].unique()\n",
    "print(graduated_from)\n"
   ]
  },
  {
   "cell_type": "markdown",
   "id": "bf987906",
   "metadata": {
    "papermill": {
     "duration": 0.005783,
     "end_time": "2023-06-26T23:36:57.546658",
     "exception": false,
     "start_time": "2023-06-26T23:36:57.540875",
     "status": "completed"
    },
    "tags": []
   },
   "source": [
    "Do you notice any inconsistencies in the data?  Can any of the inconsistencies in the data be fixed by removing white spaces at the beginning and end of cells?\n",
    "\n",
    "Once you have answered these questions, run the code cell below to get credit for your work."
   ]
  },
  {
   "cell_type": "code",
   "execution_count": 5,
   "id": "36ae0fd9",
   "metadata": {
    "execution": {
     "iopub.execute_input": "2023-06-26T23:36:57.559903Z",
     "iopub.status.busy": "2023-06-26T23:36:57.559288Z",
     "iopub.status.idle": "2023-06-26T23:36:57.566605Z",
     "shell.execute_reply": "2023-06-26T23:36:57.565878Z"
    },
    "papermill": {
     "duration": 0.016535,
     "end_time": "2023-06-26T23:36:57.568397",
     "exception": false,
     "start_time": "2023-06-26T23:36:57.551862",
     "status": "completed"
    },
    "tags": []
   },
   "outputs": [
    {
     "data": {
      "application/javascript": [
       "parent.postMessage({\"jupyterEvent\": \"custom.exercise_interaction\", \"data\": {\"outcomeType\": 1, \"valueTowardsCompletion\": 0.3333333333333333, \"interactionType\": 1, \"questionType\": 4, \"questionId\": \"1_ExamineProvince\", \"learnToolsVersion\": \"0.3.4\", \"failureMessage\": \"\", \"exceptionClass\": \"\", \"trace\": \"\"}}, \"*\")"
      ],
      "text/plain": [
       "<IPython.core.display.Javascript object>"
      ]
     },
     "metadata": {},
     "output_type": "display_data"
    },
    {
     "data": {
      "text/markdown": [
       "<span style=\"color:#33cc33\">Correct:</span> \n",
       "\n",
       "There are inconsistencies that can be fixed by removing white spaces at the beginning and end of cells.  For instance, \"University of Central Florida\" and \" University of Central Florida\" both appear in the column."
      ],
      "text/plain": [
       "Correct: \n",
       "\n",
       "There are inconsistencies that can be fixed by removing white spaces at the beginning and end of cells.  For instance, \"University of Central Florida\" and \" University of Central Florida\" both appear in the column."
      ]
     },
     "metadata": {},
     "output_type": "display_data"
    }
   ],
   "source": [
    "# Check your answer (Run this code cell to receive credit!)\n",
    "q1.check()"
   ]
  },
  {
   "cell_type": "code",
   "execution_count": 6,
   "id": "dad7e1e2",
   "metadata": {
    "execution": {
     "iopub.execute_input": "2023-06-26T23:36:57.582903Z",
     "iopub.status.busy": "2023-06-26T23:36:57.582298Z",
     "iopub.status.idle": "2023-06-26T23:36:57.585647Z",
     "shell.execute_reply": "2023-06-26T23:36:57.585045Z"
    },
    "papermill": {
     "duration": 0.014245,
     "end_time": "2023-06-26T23:36:57.588114",
     "exception": false,
     "start_time": "2023-06-26T23:36:57.573869",
     "status": "completed"
    },
    "tags": []
   },
   "outputs": [],
   "source": [
    "# Line below will give you a hint\n",
    "#q1.hint()"
   ]
  },
  {
   "cell_type": "markdown",
   "id": "59cf3793",
   "metadata": {
    "papermill": {
     "duration": 0.006079,
     "end_time": "2023-06-26T23:36:57.599819",
     "exception": false,
     "start_time": "2023-06-26T23:36:57.593740",
     "status": "completed"
    },
    "tags": []
   },
   "source": [
    "# 2) Do some text pre-processing\n",
    "\n",
    "Convert every entry in the \"Graduated from\" column in the `professors` DataFrame to remove white spaces at the beginning and end of cells."
   ]
  },
  {
   "cell_type": "code",
   "execution_count": 7,
   "id": "682c8b49",
   "metadata": {
    "execution": {
     "iopub.execute_input": "2023-06-26T23:36:57.615386Z",
     "iopub.status.busy": "2023-06-26T23:36:57.614737Z",
     "iopub.status.idle": "2023-06-26T23:36:57.629497Z",
     "shell.execute_reply": "2023-06-26T23:36:57.628115Z"
    },
    "papermill": {
     "duration": 0.02687,
     "end_time": "2023-06-26T23:36:57.633854",
     "exception": false,
     "start_time": "2023-06-26T23:36:57.606984",
     "status": "completed"
    },
    "tags": []
   },
   "outputs": [
    {
     "data": {
      "application/javascript": [
       "parent.postMessage({\"jupyterEvent\": \"custom.exercise_interaction\", \"data\": {\"outcomeType\": 1, \"valueTowardsCompletion\": 0.3333333333333333, \"interactionType\": 1, \"questionType\": 1, \"questionId\": \"2_TextProcessing\", \"learnToolsVersion\": \"0.3.4\", \"failureMessage\": \"\", \"exceptionClass\": \"\", \"trace\": \"\"}}, \"*\")"
      ],
      "text/plain": [
       "<IPython.core.display.Javascript object>"
      ]
     },
     "metadata": {},
     "output_type": "display_data"
    },
    {
     "data": {
      "text/markdown": [
       "<span style=\"color:#33cc33\">Correct</span>"
      ],
      "text/plain": [
       "Correct"
      ]
     },
     "metadata": {},
     "output_type": "display_data"
    }
   ],
   "source": [
    "# TODO: Your code here\n",
    "\n",
    "professors['Graduated from'] = professors['Graduated from'].str.strip()\n",
    "\n",
    "# Check your answer\n",
    "q2.check()"
   ]
  },
  {
   "cell_type": "code",
   "execution_count": 8,
   "id": "6308ff13",
   "metadata": {
    "execution": {
     "iopub.execute_input": "2023-06-26T23:36:57.647300Z",
     "iopub.status.busy": "2023-06-26T23:36:57.646887Z",
     "iopub.status.idle": "2023-06-26T23:36:57.650658Z",
     "shell.execute_reply": "2023-06-26T23:36:57.649984Z"
    },
    "papermill": {
     "duration": 0.013604,
     "end_time": "2023-06-26T23:36:57.652805",
     "exception": false,
     "start_time": "2023-06-26T23:36:57.639201",
     "status": "completed"
    },
    "tags": []
   },
   "outputs": [],
   "source": [
    "# Lines below will give you a hint or solution code\n",
    "#2.hint()\n",
    "#q2.solution()"
   ]
  },
  {
   "cell_type": "markdown",
   "id": "a11f3486",
   "metadata": {
    "papermill": {
     "duration": 0.005718,
     "end_time": "2023-06-26T23:36:57.666035",
     "exception": false,
     "start_time": "2023-06-26T23:36:57.660317",
     "status": "completed"
    },
    "tags": []
   },
   "source": [
    "# 3) Continue working with countries\n",
    "\n",
    "In the tutorial, we focused on cleaning up inconsistencies in the \"Country\" column.  Run the code cell below to view the list of unique values that we ended with."
   ]
  },
  {
   "cell_type": "code",
   "execution_count": 9,
   "id": "9a516514",
   "metadata": {
    "execution": {
     "iopub.execute_input": "2023-06-26T23:36:57.681571Z",
     "iopub.status.busy": "2023-06-26T23:36:57.680912Z",
     "iopub.status.idle": "2023-06-26T23:36:57.688998Z",
     "shell.execute_reply": "2023-06-26T23:36:57.686934Z"
    },
    "papermill": {
     "duration": 0.019474,
     "end_time": "2023-06-26T23:36:57.691438",
     "exception": false,
     "start_time": "2023-06-26T23:36:57.671964",
     "status": "completed"
    },
    "tags": []
   },
   "outputs": [
    {
     "data": {
      "text/plain": [
       "array(['australia', 'austria', 'canada', 'china', 'finland', 'france',\n",
       "       'germany', 'greece', 'hongkong', 'ireland', 'italy', 'japan',\n",
       "       'macau', 'malaysia', 'mauritius', 'netherland', 'new zealand',\n",
       "       'norway', 'pakistan', 'portugal', 'russian federation',\n",
       "       'saudi arabia', 'scotland', 'singapore', 'south korea', 'spain',\n",
       "       'sweden', 'thailand', 'turkey', 'uk', 'urbana', 'usa', 'usofa'],\n",
       "      dtype=object)"
      ]
     },
     "execution_count": 9,
     "metadata": {},
     "output_type": "execute_result"
    }
   ],
   "source": [
    "# get all the unique values in the 'City' column\n",
    "countries = professors['Country'].unique()\n",
    "\n",
    "# sort them alphabetically and then take a closer look\n",
    "countries.sort()\n",
    "countries"
   ]
  },
  {
   "cell_type": "markdown",
   "id": "8a8e36ae",
   "metadata": {
    "papermill": {
     "duration": 0.007167,
     "end_time": "2023-06-26T23:36:57.704329",
     "exception": false,
     "start_time": "2023-06-26T23:36:57.697162",
     "status": "completed"
    },
    "tags": []
   },
   "source": [
    "Take another look at the \"Country\" column and see if there's any more data cleaning we need to do.\n",
    "\n",
    "It looks like 'usa' and 'usofa' should be the same country.  Correct the \"Country\" column in the dataframe to replace 'usofa' with 'usa'.\n",
    "\n",
    "**Use the most recent version of the DataFrame (with the whitespaces at the beginning and end of cells removed) from question 2.**"
   ]
  },
  {
   "cell_type": "code",
   "execution_count": 10,
   "id": "a4ed9aa3",
   "metadata": {
    "execution": {
     "iopub.execute_input": "2023-06-26T23:36:57.720012Z",
     "iopub.status.busy": "2023-06-26T23:36:57.719281Z",
     "iopub.status.idle": "2023-06-26T23:36:57.734222Z",
     "shell.execute_reply": "2023-06-26T23:36:57.732310Z"
    },
    "papermill": {
     "duration": 0.025541,
     "end_time": "2023-06-26T23:36:57.736911",
     "exception": false,
     "start_time": "2023-06-26T23:36:57.711370",
     "status": "completed"
    },
    "tags": []
   },
   "outputs": [
    {
     "name": "stdout",
     "output_type": "stream",
     "text": [
      "[('usa', 100), ('usofa', 75), ('austria', 60), ('australia', 50), ('spain', 50), ('urbana', 44), ('uk', 40), ('malaysia', 36), ('pakistan', 36), ('portugal', 36)]\n",
      "All done!\n",
      "['thailand' 'pakistan' 'germany' 'austria' 'australia' 'uk' 'china'\n",
      " 'france' 'usa' 'south korea' 'malaysia' 'sweden' 'italy' 'canada'\n",
      " 'norway' 'ireland' 'new zealand' 'urbana' 'portugal' 'russian federation'\n",
      " 'finland' 'netherland' 'greece' 'turkey' 'macau' 'singapore' 'spain'\n",
      " 'japan' 'hongkong' 'saudi arabia' 'mauritius' 'scotland']\n"
     ]
    },
    {
     "data": {
      "application/javascript": [
       "parent.postMessage({\"jupyterEvent\": \"custom.exercise_interaction\", \"data\": {\"outcomeType\": 1, \"valueTowardsCompletion\": 0.3333333333333333, \"interactionType\": 1, \"questionType\": 1, \"questionId\": \"3_WorkingWithCities\", \"learnToolsVersion\": \"0.3.4\", \"failureMessage\": \"\", \"exceptionClass\": \"\", \"trace\": \"\"}}, \"*\")"
      ],
      "text/plain": [
       "<IPython.core.display.Javascript object>"
      ]
     },
     "metadata": {},
     "output_type": "display_data"
    },
    {
     "data": {
      "text/markdown": [
       "<span style=\"color:#33cc33\">Correct</span>"
      ],
      "text/plain": [
       "Correct"
      ]
     },
     "metadata": {},
     "output_type": "display_data"
    }
   ],
   "source": [
    "# TODO: Your code here!\n",
    "matches = fuzzywuzzy.process.extract(\"usa\", countries, limit=10, scorer=fuzzywuzzy.fuzz.token_sort_ratio)\n",
    "print(matches)\n",
    "replace_matches_in_column(df=professors, column='Country', string_to_match=\"usa\", min_ratio=74)\n",
    "countries = professors['Country'].unique()\n",
    "print(countries)\n",
    "# Check your answer\n",
    "q3.check()"
   ]
  },
  {
   "cell_type": "code",
   "execution_count": 11,
   "id": "faf414ab",
   "metadata": {
    "execution": {
     "iopub.execute_input": "2023-06-26T23:36:57.750576Z",
     "iopub.status.busy": "2023-06-26T23:36:57.750212Z",
     "iopub.status.idle": "2023-06-26T23:36:57.755507Z",
     "shell.execute_reply": "2023-06-26T23:36:57.753506Z"
    },
    "papermill": {
     "duration": 0.014701,
     "end_time": "2023-06-26T23:36:57.757890",
     "exception": false,
     "start_time": "2023-06-26T23:36:57.743189",
     "status": "completed"
    },
    "tags": []
   },
   "outputs": [],
   "source": [
    "# Lines below will give you a hint or solution code\n",
    "#q3.hint()\n",
    "#q3.solution()"
   ]
  },
  {
   "cell_type": "markdown",
   "id": "3f0b3062",
   "metadata": {
    "papermill": {
     "duration": 0.005625,
     "end_time": "2023-06-26T23:36:57.769840",
     "exception": false,
     "start_time": "2023-06-26T23:36:57.764215",
     "status": "completed"
    },
    "tags": []
   },
   "source": [
    "# Congratulations!\n",
    "\n",
    "Congratulations for completing the **Data Cleaning** course on Kaggle Learn!\n",
    "\n",
    "To practice your new skills, you're encouraged to download and investigate some of [Kaggle's Datasets](https://www.kaggle.com/datasets)."
   ]
  },
  {
   "cell_type": "markdown",
   "id": "f27703a4",
   "metadata": {
    "papermill": {
     "duration": 0.006062,
     "end_time": "2023-06-26T23:36:57.782572",
     "exception": false,
     "start_time": "2023-06-26T23:36:57.776510",
     "status": "completed"
    },
    "tags": []
   },
   "source": [
    "---\n",
    "\n",
    "\n",
    "\n",
    "\n",
    "*Have questions or comments? Visit the [course discussion forum](https://www.kaggle.com/learn/data-cleaning/discussion) to chat with other learners.*"
   ]
  }
 ],
 "metadata": {
  "kernelspec": {
   "display_name": "Python 3",
   "language": "python",
   "name": "python3"
  },
  "language_info": {
   "codemirror_mode": {
    "name": "ipython",
    "version": 3
   },
   "file_extension": ".py",
   "mimetype": "text/x-python",
   "name": "python",
   "nbconvert_exporter": "python",
   "pygments_lexer": "ipython3",
   "version": "3.10.10"
  },
  "papermill": {
   "default_parameters": {},
   "duration": 11.345091,
   "end_time": "2023-06-26T23:36:58.710914",
   "environment_variables": {},
   "exception": null,
   "input_path": "__notebook__.ipynb",
   "output_path": "__notebook__.ipynb",
   "parameters": {},
   "start_time": "2023-06-26T23:36:47.365823",
   "version": "2.4.0"
  }
 },
 "nbformat": 4,
 "nbformat_minor": 5
}
