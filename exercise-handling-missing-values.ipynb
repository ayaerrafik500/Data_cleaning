{
 "cells": [
  {
   "cell_type": "markdown",
   "id": "32abad65",
   "metadata": {
    "papermill": {
     "duration": 0.008423,
     "end_time": "2023-06-26T23:31:33.047964",
     "exception": false,
     "start_time": "2023-06-26T23:31:33.039541",
     "status": "completed"
    },
    "tags": []
   },
   "source": [
    "**This notebook is an exercise in the [Data Cleaning](https://www.kaggle.com/learn/data-cleaning) course.  You can reference the tutorial at [this link](https://www.kaggle.com/alexisbcook/handling-missing-values).**\n",
    "\n",
    "---\n"
   ]
  },
  {
   "cell_type": "markdown",
   "id": "cbec91cb",
   "metadata": {
    "papermill": {
     "duration": 0.00744,
     "end_time": "2023-06-26T23:31:33.063305",
     "exception": false,
     "start_time": "2023-06-26T23:31:33.055865",
     "status": "completed"
    },
    "tags": []
   },
   "source": [
    "In this exercise, you'll apply what you learned in the **Handling missing values** tutorial.\n",
    "\n",
    "# Setup\n",
    "\n",
    "The questions below will give you feedback on your work. Run the following cell to set up the feedback system."
   ]
  },
  {
   "cell_type": "code",
   "execution_count": 1,
   "id": "85c9bdba",
   "metadata": {
    "execution": {
     "iopub.execute_input": "2023-06-26T23:31:33.081153Z",
     "iopub.status.busy": "2023-06-26T23:31:33.080635Z",
     "iopub.status.idle": "2023-06-26T23:31:42.966118Z",
     "shell.execute_reply": "2023-06-26T23:31:42.964902Z"
    },
    "papermill": {
     "duration": 9.897668,
     "end_time": "2023-06-26T23:31:42.968724",
     "exception": false,
     "start_time": "2023-06-26T23:31:33.071056",
     "status": "completed"
    },
    "tags": []
   },
   "outputs": [
    {
     "name": "stderr",
     "output_type": "stream",
     "text": [
      "/opt/conda/lib/python3.10/site-packages/learntools/data_cleaning/ex1.py:6: DtypeWarning: Columns (22,32) have mixed types. Specify dtype option on import or set low_memory=False.\n",
      "  sf_permits = pd.read_csv(\"../input/building-permit-applications-data/Building_Permits.csv\")\n"
     ]
    },
    {
     "name": "stdout",
     "output_type": "stream",
     "text": [
      "Setup Complete\n"
     ]
    }
   ],
   "source": [
    "from learntools.core import binder\n",
    "binder.bind(globals())\n",
    "from learntools.data_cleaning.ex1 import *\n",
    "print(\"Setup Complete\")"
   ]
  },
  {
   "cell_type": "markdown",
   "id": "e1ae1cd8",
   "metadata": {
    "papermill": {
     "duration": 0.007893,
     "end_time": "2023-06-26T23:31:42.985118",
     "exception": false,
     "start_time": "2023-06-26T23:31:42.977225",
     "status": "completed"
    },
    "tags": []
   },
   "source": [
    "# 1) Take a first look at the data\n",
    "\n",
    "Run the next code cell to load in the libraries and dataset you'll use to complete the exercise."
   ]
  },
  {
   "cell_type": "code",
   "execution_count": 2,
   "id": "27853409",
   "metadata": {
    "execution": {
     "iopub.execute_input": "2023-06-26T23:31:43.005350Z",
     "iopub.status.busy": "2023-06-26T23:31:43.004924Z",
     "iopub.status.idle": "2023-06-26T23:31:45.074298Z",
     "shell.execute_reply": "2023-06-26T23:31:45.073113Z"
    },
    "papermill": {
     "duration": 2.08187,
     "end_time": "2023-06-26T23:31:45.077253",
     "exception": false,
     "start_time": "2023-06-26T23:31:42.995383",
     "status": "completed"
    },
    "tags": []
   },
   "outputs": [
    {
     "name": "stderr",
     "output_type": "stream",
     "text": [
      "/tmp/ipykernel_20/3534875831.py:6: DtypeWarning: Columns (22,32) have mixed types. Specify dtype option on import or set low_memory=False.\n",
      "  sf_permits = pd.read_csv(\"../input/building-permit-applications-data/Building_Permits.csv\")\n"
     ]
    }
   ],
   "source": [
    "# modules we'll use\n",
    "import pandas as pd\n",
    "import numpy as np\n",
    "\n",
    "# read in all our data\n",
    "sf_permits = pd.read_csv(\"../input/building-permit-applications-data/Building_Permits.csv\")\n",
    "\n",
    "# set seed for reproducibility\n",
    "np.random.seed(0) "
   ]
  },
  {
   "cell_type": "markdown",
   "id": "68d92887",
   "metadata": {
    "papermill": {
     "duration": 0.008033,
     "end_time": "2023-06-26T23:31:45.093668",
     "exception": false,
     "start_time": "2023-06-26T23:31:45.085635",
     "status": "completed"
    },
    "tags": []
   },
   "source": [
    "Use the code cell below to print the first five rows of the `sf_permits` DataFrame."
   ]
  },
  {
   "cell_type": "code",
   "execution_count": 3,
   "id": "3b4cb0d7",
   "metadata": {
    "execution": {
     "iopub.execute_input": "2023-06-26T23:31:45.112526Z",
     "iopub.status.busy": "2023-06-26T23:31:45.112132Z",
     "iopub.status.idle": "2023-06-26T23:31:47.152256Z",
     "shell.execute_reply": "2023-06-26T23:31:47.150937Z"
    },
    "papermill": {
     "duration": 2.052807,
     "end_time": "2023-06-26T23:31:47.155249",
     "exception": false,
     "start_time": "2023-06-26T23:31:45.102442",
     "status": "completed"
    },
    "tags": []
   },
   "outputs": [
    {
     "name": "stderr",
     "output_type": "stream",
     "text": [
      "/tmp/ipykernel_20/1016581630.py:6: DtypeWarning: Columns (22,32) have mixed types. Specify dtype option on import or set low_memory=False.\n",
      "  sf_permits = pd.read_csv(\"../input/building-permit-applications-data/Building_Permits.csv\")\n"
     ]
    },
    {
     "name": "stdout",
     "output_type": "stream",
     "text": [
      "  Permit Number  Permit Type            Permit Type Definition  \\\n",
      "0  201505065519            4                      sign - erect   \n",
      "1  201604195146            4                      sign - erect   \n",
      "2  201605278609            3  additions alterations or repairs   \n",
      "3  201611072166            8            otc alterations permit   \n",
      "4  201611283529            6                       demolitions   \n",
      "\n",
      "  Permit Creation Date Block  Lot  Street Number Street Number Suffix  \\\n",
      "0           05/06/2015  0326  023            140                  NaN   \n",
      "1           04/19/2016  0306  007            440                  NaN   \n",
      "2           05/27/2016  0595  203           1647                  NaN   \n",
      "3           11/07/2016  0156  011           1230                  NaN   \n",
      "4           11/28/2016  0342  001            950                  NaN   \n",
      "\n",
      "  Street Name Street Suffix  ...  Existing Construction Type  \\\n",
      "0       Ellis            St  ...                         3.0   \n",
      "1       Geary            St  ...                         3.0   \n",
      "2     Pacific            Av  ...                         1.0   \n",
      "3     Pacific            Av  ...                         5.0   \n",
      "4      Market            St  ...                         3.0   \n",
      "\n",
      "  Existing Construction Type Description Proposed Construction Type  \\\n",
      "0                          constr type 3                        NaN   \n",
      "1                          constr type 3                        NaN   \n",
      "2                          constr type 1                        1.0   \n",
      "3                         wood frame (5)                        5.0   \n",
      "4                          constr type 3                        NaN   \n",
      "\n",
      "  Proposed Construction Type Description Site Permit Supervisor District  \\\n",
      "0                                    NaN         NaN                 3.0   \n",
      "1                                    NaN         NaN                 3.0   \n",
      "2                          constr type 1         NaN                 3.0   \n",
      "3                         wood frame (5)         NaN                 3.0   \n",
      "4                                    NaN         NaN                 6.0   \n",
      "\n",
      "  Neighborhoods - Analysis Boundaries  Zipcode  \\\n",
      "0                          Tenderloin  94102.0   \n",
      "1                          Tenderloin  94102.0   \n",
      "2                        Russian Hill  94109.0   \n",
      "3                            Nob Hill  94109.0   \n",
      "4                          Tenderloin  94102.0   \n",
      "\n",
      "                                    Location      Record ID  \n",
      "0  (37.785719256680785, -122.40852313194863)  1380611233945  \n",
      "1   (37.78733980600732, -122.41063199757738)  1420164406718  \n",
      "2    (37.7946573324287, -122.42232562979227)  1424856504716  \n",
      "3   (37.79595867909168, -122.41557405519474)  1443574295566  \n",
      "4   (37.78315261897309, -122.40950883997789)   144548169992  \n",
      "\n",
      "[5 rows x 43 columns]\n"
     ]
    }
   ],
   "source": [
    "# modules we'll use\n",
    "import pandas as pd\n",
    "import numpy as np\n",
    "\n",
    "# read in all our data\n",
    "sf_permits = pd.read_csv(\"../input/building-permit-applications-data/Building_Permits.csv\")\n",
    "\n",
    "# set seed for reproducibility\n",
    "np.random.seed(0) \n",
    "print(sf_permits.head())\n"
   ]
  },
  {
   "cell_type": "markdown",
   "id": "8251115d",
   "metadata": {
    "papermill": {
     "duration": 0.008395,
     "end_time": "2023-06-26T23:31:47.172537",
     "exception": false,
     "start_time": "2023-06-26T23:31:47.164142",
     "status": "completed"
    },
    "tags": []
   },
   "source": [
    "Does the dataset have any missing values?  Once you have an answer, run the code cell below to get credit for your work."
   ]
  },
  {
   "cell_type": "code",
   "execution_count": 4,
   "id": "25278f1b",
   "metadata": {
    "execution": {
     "iopub.execute_input": "2023-06-26T23:31:47.193194Z",
     "iopub.status.busy": "2023-06-26T23:31:47.192783Z",
     "iopub.status.idle": "2023-06-26T23:31:47.203266Z",
     "shell.execute_reply": "2023-06-26T23:31:47.202023Z"
    },
    "papermill": {
     "duration": 0.023873,
     "end_time": "2023-06-26T23:31:47.205877",
     "exception": false,
     "start_time": "2023-06-26T23:31:47.182004",
     "status": "completed"
    },
    "tags": []
   },
   "outputs": [
    {
     "data": {
      "application/javascript": [
       "parent.postMessage({\"jupyterEvent\": \"custom.exercise_interaction\", \"data\": {\"outcomeType\": 1, \"valueTowardsCompletion\": 0.16666666666666666, \"interactionType\": 1, \"questionType\": 4, \"questionId\": \"1_TakeFirstLook\", \"learnToolsVersion\": \"0.3.4\", \"failureMessage\": \"\", \"exceptionClass\": \"\", \"trace\": \"\"}}, \"*\")"
      ],
      "text/plain": [
       "<IPython.core.display.Javascript object>"
      ]
     },
     "metadata": {},
     "output_type": "display_data"
    },
    {
     "data": {
      "text/markdown": [
       "<span style=\"color:#33cc33\">Correct:</span> \n",
       "\n",
       "The first five rows of the data does show that several columns have missing values.  You can see this in the \"Street Number Suffix\", \"Proposed Construction Type\" and \"Site Permit\" columns, among others."
      ],
      "text/plain": [
       "Correct: \n",
       "\n",
       "The first five rows of the data does show that several columns have missing values.  You can see this in the \"Street Number Suffix\", \"Proposed Construction Type\" and \"Site Permit\" columns, among others."
      ]
     },
     "metadata": {},
     "output_type": "display_data"
    }
   ],
   "source": [
    "# Check your answer (Run this code cell to receive credit!)\n",
    "q1.check()"
   ]
  },
  {
   "cell_type": "code",
   "execution_count": 5,
   "id": "45bdc1d2",
   "metadata": {
    "execution": {
     "iopub.execute_input": "2023-06-26T23:31:47.225523Z",
     "iopub.status.busy": "2023-06-26T23:31:47.225123Z",
     "iopub.status.idle": "2023-06-26T23:31:47.230138Z",
     "shell.execute_reply": "2023-06-26T23:31:47.229103Z"
    },
    "papermill": {
     "duration": 0.017647,
     "end_time": "2023-06-26T23:31:47.232542",
     "exception": false,
     "start_time": "2023-06-26T23:31:47.214895",
     "status": "completed"
    },
    "tags": []
   },
   "outputs": [],
   "source": [
    "# Line below will give you a hint\n",
    "#q1.hint()"
   ]
  },
  {
   "cell_type": "markdown",
   "id": "4e6efeda",
   "metadata": {
    "papermill": {
     "duration": 0.008472,
     "end_time": "2023-06-26T23:31:47.250081",
     "exception": false,
     "start_time": "2023-06-26T23:31:47.241609",
     "status": "completed"
    },
    "tags": []
   },
   "source": [
    "# 2) How many missing data points do we have?\n",
    "\n",
    "What percentage of the values in the dataset are missing?  Your answer should be a number between 0 and 100.  (If 1/4 of the values in the dataset are missing, the answer is 25.)"
   ]
  },
  {
   "cell_type": "code",
   "execution_count": 6,
   "id": "57a0fd38",
   "metadata": {
    "execution": {
     "iopub.execute_input": "2023-06-26T23:31:47.270235Z",
     "iopub.status.busy": "2023-06-26T23:31:47.269806Z",
     "iopub.status.idle": "2023-06-26T23:31:48.888198Z",
     "shell.execute_reply": "2023-06-26T23:31:48.887101Z"
    },
    "papermill": {
     "duration": 1.631507,
     "end_time": "2023-06-26T23:31:48.890468",
     "exception": false,
     "start_time": "2023-06-26T23:31:47.258961",
     "status": "completed"
    },
    "tags": []
   },
   "outputs": [
    {
     "name": "stdout",
     "output_type": "stream",
     "text": [
      "26.26002315058403\n"
     ]
    },
    {
     "data": {
      "application/javascript": [
       "parent.postMessage({\"jupyterEvent\": \"custom.exercise_interaction\", \"data\": {\"outcomeType\": 1, \"valueTowardsCompletion\": 0.16666666666666666, \"interactionType\": 1, \"questionType\": 1, \"questionId\": \"2_PercentMissingValues\", \"learnToolsVersion\": \"0.3.4\", \"failureMessage\": \"\", \"exceptionClass\": \"\", \"trace\": \"\"}}, \"*\")"
      ],
      "text/plain": [
       "<IPython.core.display.Javascript object>"
      ]
     },
     "metadata": {},
     "output_type": "display_data"
    },
    {
     "data": {
      "text/markdown": [
       "<span style=\"color:#33cc33\">Correct</span>"
      ],
      "text/plain": [
       "Correct"
      ]
     },
     "metadata": {},
     "output_type": "display_data"
    }
   ],
   "source": [
    "# TODO: Your code here!\n",
    "total_cells = np.product(sf_permits.shape)\n",
    "total_missing = sf_permits.isnull().sum().sum()\n",
    "\n",
    "percent_missing = (total_missing/total_cells) * 100\n",
    "print(percent_missing)\n",
    "\n",
    "# Check your answer\n",
    "q2.check()"
   ]
  },
  {
   "cell_type": "code",
   "execution_count": 7,
   "id": "b5363a29",
   "metadata": {
    "execution": {
     "iopub.execute_input": "2023-06-26T23:31:48.911138Z",
     "iopub.status.busy": "2023-06-26T23:31:48.910727Z",
     "iopub.status.idle": "2023-06-26T23:31:48.915369Z",
     "shell.execute_reply": "2023-06-26T23:31:48.914101Z"
    },
    "papermill": {
     "duration": 0.017812,
     "end_time": "2023-06-26T23:31:48.917711",
     "exception": false,
     "start_time": "2023-06-26T23:31:48.899899",
     "status": "completed"
    },
    "tags": []
   },
   "outputs": [],
   "source": [
    "# Lines below will give you a hint or solution code\n",
    "#q2.hint()\n",
    "#q2.solution()"
   ]
  },
  {
   "cell_type": "markdown",
   "id": "5b20ee54",
   "metadata": {
    "papermill": {
     "duration": 0.009079,
     "end_time": "2023-06-26T23:31:48.936272",
     "exception": false,
     "start_time": "2023-06-26T23:31:48.927193",
     "status": "completed"
    },
    "tags": []
   },
   "source": [
    "# 3) Figure out why the data is missing\n",
    "\n",
    "Look at the columns **\"Street Number Suffix\"** and **\"Zipcode\"** from the [San Francisco Building Permits dataset](https://www.kaggle.com/aparnashastry/building-permit-applications-data). Both of these contain missing values. \n",
    "- Which, if either, are missing because they don't exist? \n",
    "- Which, if either, are missing because they weren't recorded?  \n",
    "\n",
    "Once you have an answer, run the code cell below."
   ]
  },
  {
   "cell_type": "code",
   "execution_count": 8,
   "id": "31597bcf",
   "metadata": {
    "execution": {
     "iopub.execute_input": "2023-06-26T23:31:48.957081Z",
     "iopub.status.busy": "2023-06-26T23:31:48.956666Z",
     "iopub.status.idle": "2023-06-26T23:31:48.965658Z",
     "shell.execute_reply": "2023-06-26T23:31:48.964349Z"
    },
    "papermill": {
     "duration": 0.022318,
     "end_time": "2023-06-26T23:31:48.968182",
     "exception": false,
     "start_time": "2023-06-26T23:31:48.945864",
     "status": "completed"
    },
    "tags": []
   },
   "outputs": [
    {
     "data": {
      "application/javascript": [
       "parent.postMessage({\"jupyterEvent\": \"custom.exercise_interaction\", \"data\": {\"outcomeType\": 1, \"valueTowardsCompletion\": 0.16666666666666666, \"interactionType\": 1, \"questionType\": 4, \"questionId\": \"3_WhyDataMissing\", \"learnToolsVersion\": \"0.3.4\", \"failureMessage\": \"\", \"exceptionClass\": \"\", \"trace\": \"\"}}, \"*\")"
      ],
      "text/plain": [
       "<IPython.core.display.Javascript object>"
      ]
     },
     "metadata": {},
     "output_type": "display_data"
    },
    {
     "data": {
      "text/markdown": [
       "<span style=\"color:#33cc33\">Correct:</span> \n",
       "\n",
       "If a value in the \"Street Number Suffix\" column is missing, it is likely because it does not exist. If a value in the \"Zipcode\" column is missing, it was not recorded."
      ],
      "text/plain": [
       "Correct: \n",
       "\n",
       "If a value in the \"Street Number Suffix\" column is missing, it is likely because it does not exist. If a value in the \"Zipcode\" column is missing, it was not recorded."
      ]
     },
     "metadata": {},
     "output_type": "display_data"
    }
   ],
   "source": [
    "# Check your answer (Run this code cell to receive credit!)\n",
    "q3.check()"
   ]
  },
  {
   "cell_type": "code",
   "execution_count": 9,
   "id": "9a006b19",
   "metadata": {
    "execution": {
     "iopub.execute_input": "2023-06-26T23:31:48.990219Z",
     "iopub.status.busy": "2023-06-26T23:31:48.989793Z",
     "iopub.status.idle": "2023-06-26T23:31:48.994812Z",
     "shell.execute_reply": "2023-06-26T23:31:48.993283Z"
    },
    "papermill": {
     "duration": 0.019138,
     "end_time": "2023-06-26T23:31:48.997449",
     "exception": false,
     "start_time": "2023-06-26T23:31:48.978311",
     "status": "completed"
    },
    "tags": []
   },
   "outputs": [],
   "source": [
    "# Line below will give you a hint\n",
    "#q3.hint()"
   ]
  },
  {
   "cell_type": "markdown",
   "id": "6c1d55e1",
   "metadata": {
    "papermill": {
     "duration": 0.009558,
     "end_time": "2023-06-26T23:31:49.017628",
     "exception": false,
     "start_time": "2023-06-26T23:31:49.008070",
     "status": "completed"
    },
    "tags": []
   },
   "source": [
    "# 4) Drop missing values: rows\n",
    "\n",
    "If you removed all of the rows of `sf_permits` with missing values, how many rows are left?\n",
    "\n",
    "**Note**: Do not change the value of `sf_permits` when checking this.  "
   ]
  },
  {
   "cell_type": "code",
   "execution_count": 10,
   "id": "375c1b84",
   "metadata": {
    "execution": {
     "iopub.execute_input": "2023-06-26T23:31:49.039344Z",
     "iopub.status.busy": "2023-06-26T23:31:49.038964Z",
     "iopub.status.idle": "2023-06-26T23:31:50.652946Z",
     "shell.execute_reply": "2023-06-26T23:31:50.651577Z"
    },
    "papermill": {
     "duration": 1.627956,
     "end_time": "2023-06-26T23:31:50.655544",
     "exception": false,
     "start_time": "2023-06-26T23:31:49.027588",
     "status": "completed"
    },
    "tags": []
   },
   "outputs": [
    {
     "name": "stdout",
     "output_type": "stream",
     "text": [
      "0\n"
     ]
    }
   ],
   "source": [
    "# TODO: Your code here!\n",
    "sf_permits_noNAR=sf_permits.dropna()\n",
    "print(sf_permits_noNAR.shape[0])\n",
    "\n"
   ]
  },
  {
   "cell_type": "markdown",
   "id": "ffcc5b6b",
   "metadata": {
    "papermill": {
     "duration": 0.009496,
     "end_time": "2023-06-26T23:31:50.675118",
     "exception": false,
     "start_time": "2023-06-26T23:31:50.665622",
     "status": "completed"
    },
    "tags": []
   },
   "source": [
    "Once you have an answer, run the code cell below."
   ]
  },
  {
   "cell_type": "code",
   "execution_count": 11,
   "id": "129b8962",
   "metadata": {
    "execution": {
     "iopub.execute_input": "2023-06-26T23:31:50.696493Z",
     "iopub.status.busy": "2023-06-26T23:31:50.696124Z",
     "iopub.status.idle": "2023-06-26T23:31:50.705163Z",
     "shell.execute_reply": "2023-06-26T23:31:50.704058Z"
    },
    "papermill": {
     "duration": 0.022564,
     "end_time": "2023-06-26T23:31:50.707441",
     "exception": false,
     "start_time": "2023-06-26T23:31:50.684877",
     "status": "completed"
    },
    "tags": []
   },
   "outputs": [
    {
     "data": {
      "application/javascript": [
       "parent.postMessage({\"jupyterEvent\": \"custom.exercise_interaction\", \"data\": {\"outcomeType\": 1, \"valueTowardsCompletion\": 0.16666666666666666, \"interactionType\": 1, \"questionType\": 4, \"questionId\": \"4_DropMissingRows\", \"learnToolsVersion\": \"0.3.4\", \"failureMessage\": \"\", \"exceptionClass\": \"\", \"trace\": \"\"}}, \"*\")"
      ],
      "text/plain": [
       "<IPython.core.display.Javascript object>"
      ]
     },
     "metadata": {},
     "output_type": "display_data"
    },
    {
     "data": {
      "text/markdown": [
       "<span style=\"color:#33cc33\">Correct:</span> \n",
       "\n",
       "There are no rows remaining in the dataset!"
      ],
      "text/plain": [
       "Correct: \n",
       "\n",
       "There are no rows remaining in the dataset!"
      ]
     },
     "metadata": {},
     "output_type": "display_data"
    }
   ],
   "source": [
    "# Check your answer (Run this code cell to receive credit!)\n",
    "q4.check()"
   ]
  },
  {
   "cell_type": "code",
   "execution_count": 12,
   "id": "a4534826",
   "metadata": {
    "execution": {
     "iopub.execute_input": "2023-06-26T23:31:50.729993Z",
     "iopub.status.busy": "2023-06-26T23:31:50.729601Z",
     "iopub.status.idle": "2023-06-26T23:31:50.734178Z",
     "shell.execute_reply": "2023-06-26T23:31:50.732913Z"
    },
    "papermill": {
     "duration": 0.018752,
     "end_time": "2023-06-26T23:31:50.736511",
     "exception": false,
     "start_time": "2023-06-26T23:31:50.717759",
     "status": "completed"
    },
    "tags": []
   },
   "outputs": [],
   "source": [
    "# Line below will give you a hint\n",
    "#q4.hint()"
   ]
  },
  {
   "cell_type": "markdown",
   "id": "b2625f7c",
   "metadata": {
    "papermill": {
     "duration": 0.009946,
     "end_time": "2023-06-26T23:31:50.756690",
     "exception": false,
     "start_time": "2023-06-26T23:31:50.746744",
     "status": "completed"
    },
    "tags": []
   },
   "source": [
    "# 5) Drop missing values: columns\n",
    "\n",
    "Now try removing all the columns with empty values.  \n",
    "- Create a new DataFrame called `sf_permits_with_na_dropped` that has all of the columns with empty values removed.  \n",
    "- How many columns were removed from the original `sf_permits` DataFrame? Use this number to set the value of the `dropped_columns` variable below."
   ]
  },
  {
   "cell_type": "code",
   "execution_count": 13,
   "id": "6b681f52",
   "metadata": {
    "execution": {
     "iopub.execute_input": "2023-06-26T23:31:50.779337Z",
     "iopub.status.busy": "2023-06-26T23:31:50.778507Z",
     "iopub.status.idle": "2023-06-26T23:31:52.396269Z",
     "shell.execute_reply": "2023-06-26T23:31:52.394925Z"
    },
    "papermill": {
     "duration": 1.631521,
     "end_time": "2023-06-26T23:31:52.398482",
     "exception": false,
     "start_time": "2023-06-26T23:31:50.766961",
     "status": "completed"
    },
    "tags": []
   },
   "outputs": [
    {
     "data": {
      "application/javascript": [
       "parent.postMessage({\"jupyterEvent\": \"custom.exercise_interaction\", \"data\": {\"outcomeType\": 1, \"valueTowardsCompletion\": 0.16666666666666666, \"interactionType\": 1, \"questionType\": 1, \"questionId\": \"5_DropMissingCols\", \"learnToolsVersion\": \"0.3.4\", \"failureMessage\": \"\", \"exceptionClass\": \"\", \"trace\": \"\"}}, \"*\")"
      ],
      "text/plain": [
       "<IPython.core.display.Javascript object>"
      ]
     },
     "metadata": {},
     "output_type": "display_data"
    },
    {
     "data": {
      "text/markdown": [
       "<span style=\"color:#33cc33\">Correct</span>"
      ],
      "text/plain": [
       "Correct"
      ]
     },
     "metadata": {},
     "output_type": "display_data"
    }
   ],
   "source": [
    "# TODO: Your code here\n",
    "sf_permits_with_na_dropped = sf_permits.dropna(axis=1)\n",
    "\n",
    "dropped_columns = sf_permits.shape[1]- sf_permits_with_na_dropped.shape[1]\n",
    "\n",
    "# Check your answer\n",
    "q5.check()"
   ]
  },
  {
   "cell_type": "code",
   "execution_count": 14,
   "id": "7530ddf4",
   "metadata": {
    "execution": {
     "iopub.execute_input": "2023-06-26T23:31:52.421345Z",
     "iopub.status.busy": "2023-06-26T23:31:52.420908Z",
     "iopub.status.idle": "2023-06-26T23:31:52.430034Z",
     "shell.execute_reply": "2023-06-26T23:31:52.428731Z"
    },
    "papermill": {
     "duration": 0.023195,
     "end_time": "2023-06-26T23:31:52.432330",
     "exception": false,
     "start_time": "2023-06-26T23:31:52.409135",
     "status": "completed"
    },
    "tags": []
   },
   "outputs": [
    {
     "data": {
      "application/javascript": [
       "parent.postMessage({\"jupyterEvent\": \"custom.exercise_interaction\", \"data\": {\"interactionType\": 2, \"questionType\": 1, \"questionId\": \"5_DropMissingCols\", \"learnToolsVersion\": \"0.3.4\", \"valueTowardsCompletion\": 0.0, \"failureMessage\": \"\", \"exceptionClass\": \"\", \"trace\": \"\", \"outcomeType\": 4}}, \"*\")"
      ],
      "text/plain": [
       "<IPython.core.display.Javascript object>"
      ]
     },
     "metadata": {},
     "output_type": "display_data"
    },
    {
     "data": {
      "text/markdown": [
       "<span style=\"color:#3366cc\">Hint:</span> You can begin by getting the dropping all columns with missing values with `sf_permits.dropna(axis=1)`."
      ],
      "text/plain": [
       "Hint: You can begin by getting the dropping all columns with missing values with `sf_permits.dropna(axis=1)`."
      ]
     },
     "metadata": {},
     "output_type": "display_data"
    }
   ],
   "source": [
    "# Lines below will give you a hint or solution code\n",
    "q5.hint()\n",
    "#q5.solution()"
   ]
  },
  {
   "cell_type": "markdown",
   "id": "61d20232",
   "metadata": {
    "papermill": {
     "duration": 0.010641,
     "end_time": "2023-06-26T23:31:52.453929",
     "exception": false,
     "start_time": "2023-06-26T23:31:52.443288",
     "status": "completed"
    },
    "tags": []
   },
   "source": [
    "# 6) Fill in missing values automatically\n",
    "\n",
    "Try replacing all the NaN's in the `sf_permits` data with the one that comes directly after it and then replacing any remaining NaN's with 0.  Set the result to a new DataFrame `sf_permits_with_na_imputed`."
   ]
  },
  {
   "cell_type": "code",
   "execution_count": 15,
   "id": "4cc37e8e",
   "metadata": {
    "execution": {
     "iopub.execute_input": "2023-06-26T23:31:52.478062Z",
     "iopub.status.busy": "2023-06-26T23:31:52.477642Z",
     "iopub.status.idle": "2023-06-26T23:31:56.078396Z",
     "shell.execute_reply": "2023-06-26T23:31:56.077392Z"
    },
    "papermill": {
     "duration": 3.616088,
     "end_time": "2023-06-26T23:31:56.080880",
     "exception": false,
     "start_time": "2023-06-26T23:31:52.464792",
     "status": "completed"
    },
    "tags": []
   },
   "outputs": [
    {
     "data": {
      "application/javascript": [
       "parent.postMessage({\"jupyterEvent\": \"custom.exercise_interaction\", \"data\": {\"outcomeType\": 1, \"valueTowardsCompletion\": 0.16666666666666666, \"interactionType\": 1, \"questionType\": 1, \"questionId\": \"6_ImputeAutomatically\", \"learnToolsVersion\": \"0.3.4\", \"failureMessage\": \"\", \"exceptionClass\": \"\", \"trace\": \"\"}}, \"*\")"
      ],
      "text/plain": [
       "<IPython.core.display.Javascript object>"
      ]
     },
     "metadata": {},
     "output_type": "display_data"
    },
    {
     "data": {
      "text/markdown": [
       "<span style=\"color:#33cc33\">Correct</span>"
      ],
      "text/plain": [
       "Correct"
      ]
     },
     "metadata": {},
     "output_type": "display_data"
    }
   ],
   "source": [
    "# TODO: Your code here\n",
    "sf_permits_with_na_imputed = sf_permits.fillna(method='bfill',axis=0).fillna(0)\n",
    "\n",
    "# Check your answer\n",
    "q6.check()"
   ]
  },
  {
   "cell_type": "code",
   "execution_count": 16,
   "id": "7d3423d3",
   "metadata": {
    "execution": {
     "iopub.execute_input": "2023-06-26T23:31:56.105525Z",
     "iopub.status.busy": "2023-06-26T23:31:56.105128Z",
     "iopub.status.idle": "2023-06-26T23:31:56.109571Z",
     "shell.execute_reply": "2023-06-26T23:31:56.108393Z"
    },
    "papermill": {
     "duration": 0.019658,
     "end_time": "2023-06-26T23:31:56.112060",
     "exception": false,
     "start_time": "2023-06-26T23:31:56.092402",
     "status": "completed"
    },
    "tags": []
   },
   "outputs": [],
   "source": [
    "# Lines below will give you a hint or solution code\n",
    "#q6.hint()\n",
    "#q6.solution()"
   ]
  },
  {
   "cell_type": "markdown",
   "id": "2fa669ed",
   "metadata": {
    "papermill": {
     "duration": 0.010956,
     "end_time": "2023-06-26T23:31:56.134303",
     "exception": false,
     "start_time": "2023-06-26T23:31:56.123347",
     "status": "completed"
    },
    "tags": []
   },
   "source": [
    "# More practice\n",
    "\n",
    "If you're looking for more practice handling missing values:\n",
    "\n",
    "* Check out [this noteboook](https://www.kaggle.com/alexisbcook/missing-values) on handling missing values using scikit-learn's imputer. \n",
    "* Look back at the \"Zipcode\" column in the `sf_permits` dataset, which has some missing values. How would you go about figuring out what the actual zipcode of each address should be? (You might try using another dataset. You can search for datasets about San Fransisco on the [Datasets listing](https://www.kaggle.com/datasets).) \n",
    "\n",
    "# Keep going\n",
    "\n",
    "In the next lesson, learn how to [**apply scaling and normalization**](https://www.kaggle.com/alexisbcook/scaling-and-normalization) to transform your data."
   ]
  },
  {
   "cell_type": "markdown",
   "id": "3fe73dba",
   "metadata": {
    "papermill": {
     "duration": 0.011321,
     "end_time": "2023-06-26T23:31:56.157007",
     "exception": false,
     "start_time": "2023-06-26T23:31:56.145686",
     "status": "completed"
    },
    "tags": []
   },
   "source": [
    "---\n",
    "\n",
    "\n",
    "\n",
    "\n",
    "*Have questions or comments? Visit the [course discussion forum](https://www.kaggle.com/learn/data-cleaning/discussion) to chat with other learners.*"
   ]
  }
 ],
 "metadata": {
  "kernelspec": {
   "display_name": "Python 3",
   "language": "python",
   "name": "python3"
  },
  "language_info": {
   "codemirror_mode": {
    "name": "ipython",
    "version": 3
   },
   "file_extension": ".py",
   "mimetype": "text/x-python",
   "name": "python",
   "nbconvert_exporter": "python",
   "pygments_lexer": "ipython3",
   "version": "3.10.10"
  },
  "papermill": {
   "default_parameters": {},
   "duration": 36.63311,
   "end_time": "2023-06-26T23:31:57.292680",
   "environment_variables": {},
   "exception": null,
   "input_path": "__notebook__.ipynb",
   "output_path": "__notebook__.ipynb",
   "parameters": {},
   "start_time": "2023-06-26T23:31:20.659570",
   "version": "2.4.0"
  }
 },
 "nbformat": 4,
 "nbformat_minor": 5
}
